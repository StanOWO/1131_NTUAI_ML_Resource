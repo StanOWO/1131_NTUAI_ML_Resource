{
  "nbformat": 4,
  "nbformat_minor": 0,
  "metadata": {
    "colab": {
      "provenance": []
    },
    "kernelspec": {
      "name": "python3",
      "display_name": "Python 3"
    },
    "language_info": {
      "name": "python"
    }
  },
  "cells": [
    {
      "cell_type": "markdown",
      "source": [
        "# Environment"
      ],
      "metadata": {
        "id": "c77hMDvILEAZ"
      }
    },
    {
      "cell_type": "code",
      "execution_count": 1,
      "metadata": {
        "id": "xKxsvOgBK7Jg"
      },
      "outputs": [],
      "source": [
        "# HappyML install\n",
        "import os\n",
        "\n",
        "if not os.path.isdir(\"HappyML\"):\n",
        "  os.system(\"git clone https://github.com/cnchi/HappyML.git\")"
      ]
    },
    {
      "cell_type": "code",
      "source": [
        "# Load data\n",
        "datasetName=\"housing.csv\"\n",
        "datasetName = datasetName.replace(\" \", \"%20\")\n",
        "if not os.path.isfile(datasetName):\n",
        "  os.system(\"wget https://raw.githubusercontent.com/StanOWO/1131_NTUAI_ML_Resource/main/dataset/\" + datasetName)"
      ],
      "metadata": {
        "id": "phDDvvbyNYnl"
      },
      "execution_count": 2,
      "outputs": []
    },
    {
      "cell_type": "markdown",
      "source": [
        "# Preprocessing"
      ],
      "metadata": {
        "id": "wDRL-RScN80R"
      }
    },
    {
      "cell_type": "code",
      "source": [
        "import HappyML.preprocessor as pp"
      ],
      "metadata": {
        "id": "WYEoXSDLNZqg"
      },
      "execution_count": 3,
      "outputs": []
    },
    {
      "cell_type": "code",
      "source": [
        "# Load Data\n",
        "dataset = pp.dataset(file=\"housing.csv\")\n",
        "\n",
        "# 7 pieces of data is null in total_bedrooms\n",
        "print(dataset.info())"
      ],
      "metadata": {
        "colab": {
          "base_uri": "https://localhost:8080/"
        },
        "id": "gNFzhGJLOWzD",
        "outputId": "7f4f8963-1587-4267-adfb-c0f40c807cb6"
      },
      "execution_count": 4,
      "outputs": [
        {
          "output_type": "stream",
          "name": "stdout",
          "text": [
            "<class 'pandas.core.frame.DataFrame'>\n",
            "RangeIndex: 20640 entries, 0 to 20639\n",
            "Data columns (total 10 columns):\n",
            " #   Column              Non-Null Count  Dtype  \n",
            "---  ------              --------------  -----  \n",
            " 0   longitude           20640 non-null  float64\n",
            " 1   latitude            20640 non-null  float64\n",
            " 2   housing_median_age  20640 non-null  float64\n",
            " 3   total_rooms         20640 non-null  float64\n",
            " 4   total_bedrooms      20433 non-null  float64\n",
            " 5   population          20640 non-null  float64\n",
            " 6   households          20640 non-null  float64\n",
            " 7   median_income       20640 non-null  float64\n",
            " 8   median_house_value  20640 non-null  float64\n",
            " 9   ocean_proximity     20640 non-null  object \n",
            "dtypes: float64(9), object(1)\n",
            "memory usage: 1.6+ MB\n",
            "None\n"
          ]
        }
      ]
    },
    {
      "cell_type": "code",
      "source": [
        "# I choose this strategy because not many pieces of data contain null\n",
        "# Drop the rows of data which contains null\n",
        "dataset = dataset.dropna(axis=0, how='any')\n",
        "print(dataset.info())"
      ],
      "metadata": {
        "colab": {
          "base_uri": "https://localhost:8080/"
        },
        "id": "XQ02nGjBRnGV",
        "outputId": "3dd9f126-3706-4b6a-ecf3-70b429cdd4c1"
      },
      "execution_count": 5,
      "outputs": [
        {
          "output_type": "stream",
          "name": "stdout",
          "text": [
            "<class 'pandas.core.frame.DataFrame'>\n",
            "Index: 20433 entries, 0 to 20639\n",
            "Data columns (total 10 columns):\n",
            " #   Column              Non-Null Count  Dtype  \n",
            "---  ------              --------------  -----  \n",
            " 0   longitude           20433 non-null  float64\n",
            " 1   latitude            20433 non-null  float64\n",
            " 2   housing_median_age  20433 non-null  float64\n",
            " 3   total_rooms         20433 non-null  float64\n",
            " 4   total_bedrooms      20433 non-null  float64\n",
            " 5   population          20433 non-null  float64\n",
            " 6   households          20433 non-null  float64\n",
            " 7   median_income       20433 non-null  float64\n",
            " 8   median_house_value  20433 non-null  float64\n",
            " 9   ocean_proximity     20433 non-null  object \n",
            "dtypes: float64(9), object(1)\n",
            "memory usage: 1.7+ MB\n",
            "None\n"
          ]
        }
      ]
    },
    {
      "cell_type": "code",
      "source": [
        "# X, Y decomposition\n",
        "X, Y = pp.decomposition(dataset, x_columns=[i for i in range(9)], y_columns=[9])"
      ],
      "metadata": {
        "id": "mCPLogiVOX8h"
      },
      "execution_count": 6,
      "outputs": []
    },
    {
      "cell_type": "code",
      "source": [
        "#X = pp.missing_data(X, strategy=\"mean\")\n",
        "#Y = pp.missing_data(Y, strategy=\"mean\")"
      ],
      "metadata": {
        "id": "P5pANrUdRT0s"
      },
      "execution_count": 7,
      "outputs": []
    },
    {
      "cell_type": "code",
      "source": [
        "# Label Encoding\n",
        "Y, Y_mapping = pp.label_encoder(Y, mapping=True)\n",
        "\n",
        "print(Y)\n",
        "print(Y_mapping)"
      ],
      "metadata": {
        "colab": {
          "base_uri": "https://localhost:8080/"
        },
        "id": "5S4bEsPQOZk8",
        "outputId": "bce28160-43ab-47a1-9bfa-162c9302c8c6"
      },
      "execution_count": 9,
      "outputs": [
        {
          "output_type": "stream",
          "name": "stdout",
          "text": [
            "       ocean_proximity\n",
            "0                    3\n",
            "1                    3\n",
            "2                    3\n",
            "3                    3\n",
            "4                    3\n",
            "...                ...\n",
            "20635                1\n",
            "20636                1\n",
            "20637                1\n",
            "20638                1\n",
            "20639                1\n",
            "\n",
            "[20433 rows x 1 columns]\n",
            "{0: '<1H OCEAN', 1: 'INLAND', 2: 'ISLAND', 3: 'NEAR BAY', 4: 'NEAR OCEAN'}\n"
          ]
        }
      ]
    },
    {
      "cell_type": "code",
      "source": [
        "# Note:Here are some dimensionality reduction algorithms(inessential)\n",
        "\n",
        "# Feature Selection\n",
        "\n",
        "# from sklearn.decomposition import PCA\n",
        "# pca = PCA(n_components=None)\n",
        "# pca.fit(X)\n",
        "# info_covered = pca.explained_variance_ratio_\n",
        "# cumulated_sum = np.cumsum(info_covered)\n",
        "# plt.plot(cumulated_sum, color=\"blue\")\n",
        "\n",
        "# pca = PCA(n_components=2)\n",
        "# X_columns = [\"PCA_{}\".format(i+1) for i in range(2)]\n",
        "# X = pd.DataFrame(pca.fit_transform(X), index=X.index, columns=X_columns)\n",
        "#from HappyML.preprocessor import PCASelector\n",
        "\n",
        "#selector = PCASelector(best_k=\"auto\")\n",
        "#X = selector.fit(x_ary=X, verbose=True, plot=True).transform(X)"
      ],
      "metadata": {
        "id": "7NiP3ER8OinY"
      },
      "execution_count": 10,
      "outputs": []
    },
    {
      "cell_type": "code",
      "source": [
        "# Split Training / TEsting Set\n",
        "X_train, X_test, Y_train, Y_test = pp.split_train_test(X, Y, train_size=0.8, random_state=0)"
      ],
      "metadata": {
        "id": "mI50chrbOlnG"
      },
      "execution_count": 11,
      "outputs": []
    },
    {
      "cell_type": "code",
      "source": [
        "# Feature Scaling\n",
        "X_train, X_test = pp.feature_scaling(fit_ary=X_train, transform_arys=(X_train, X_test))"
      ],
      "metadata": {
        "id": "IH6MPy2YOn4a"
      },
      "execution_count": 12,
      "outputs": []
    },
    {
      "cell_type": "markdown",
      "source": [
        "# SVM"
      ],
      "metadata": {
        "id": "-Hjodi3aPdsr"
      }
    },
    {
      "cell_type": "code",
      "source": [
        "# # from sklearn.svm import SVC\n",
        "# # import time\n",
        "\n",
        "# # classifier = SVC(C=1.0, kernel=\"rbf\", gamma=\"scale\", random_state=int(time.time()))\n",
        "# # classifier.fit(X_train, Y_train.values.ravel())\n",
        "# # Y_pred = classifier.predict(X_test)\n",
        "\n",
        "from HappyML.classification import SVM\n",
        "\n",
        "classifier = SVM()\n",
        "Y_pred = classifier.fit(X_train, Y_train).predict(X_test)"
      ],
      "metadata": {
        "id": "6BOhvvOjPjtj"
      },
      "execution_count": 21,
      "outputs": []
    },
    {
      "cell_type": "code",
      "source": [
        "# from sklearn.model_selection import cross_val_score\n",
        "\n",
        "# k_fold = 10\n",
        "# accuracies = cross_val_score(estimator=classifier.classifier, X=X, y=Y.values.ravel(), scoring=\"accuracy\", cv=k_fold, n_jobs=-1)\n",
        "# print(\"{} Folds Mean Accuracy: {}\".format(k_fold, accuracies.mean()))\n",
        "\n",
        "# recalls = cross_val_score(estimator=classifier.classifier, X=X, y=Y.values.ravel(), scoring=\"recall\", cv=k_fold, n_jobs=-1)\n",
        "# print(\"{} Folds Mean Recall: {}\".format(k_fold, recalls.mean()))\n",
        "\n",
        "# precisions = cross_val_score(estimator=classifier.classifier, X=X, y=Y.values.ravel(), scoring=\"precision\", cv=k_fold, n_jobs=-1)\n",
        "# print(\"{} Folds Mean Precision: {}\".format(k_fold, precisions.mean()))\n",
        "\n",
        "# f_scores = cross_val_score(estimator=classifier.classifier, X=X, y=Y.values.ravel(), scoring=\"f1\", cv=k_fold, n_jobs=-1)\n",
        "# print(\"{} Folds Mean F1-Score: {}\".format(k_fold, f_scores.mean()))\n",
        "from HappyML.performance import KFoldClassificationPerformance\n",
        "\n",
        "K = 10\n",
        "kfp = KFoldClassificationPerformance(x_ary=X, y_ary=Y, classifier=classifier.classifier, k_fold=K, verbose=False)\n",
        "\n",
        "print(\"----- SVM Classification -----\")\n",
        "print(\"{} Folds Mean Accuracy: {}\".format(K, kfp.accuracy()))\n",
        "print(\"{} Folds Mean Recall: {}\".format(K, kfp.recall()))\n",
        "print(\"{} Folds Mean Precision: {}\".format(K, kfp.precision()))\n",
        "print(\"{} Folds Mean F1-Score: {}\".format(K, kfp.f_score()))"
      ],
      "metadata": {
        "colab": {
          "base_uri": "https://localhost:8080/"
        },
        "id": "yubCWRDmPo1L",
        "outputId": "64a4ea4c-7955-457d-a396-d1a380619839"
      },
      "execution_count": 22,
      "outputs": [
        {
          "output_type": "stream",
          "name": "stdout",
          "text": [
            "----- SVM Classification -----\n",
            "10 Folds Mean Accuracy: 0.607398419307779\n",
            "10 Folds Mean Recall: 0.34966466190592266\n",
            "10 Folds Mean Precision: 0.2895209714285347\n",
            "10 Folds Mean F1-Score: 0.3082967689583006\n"
          ]
        }
      ]
    },
    {
      "cell_type": "markdown",
      "source": [
        "# Decision Tree"
      ],
      "metadata": {
        "id": "Rd6MC0QrVzQZ"
      }
    },
    {
      "cell_type": "code",
      "source": [
        "from HappyML.classification import DecisionTree\n",
        "\n",
        "classifier = DecisionTree()\n",
        "Y_pred = classifier.fit(X_train, Y_train).predict(X_test)"
      ],
      "metadata": {
        "id": "N2pWKdt6TOg3"
      },
      "execution_count": 23,
      "outputs": []
    },
    {
      "cell_type": "code",
      "source": [
        "from HappyML.performance import KFoldClassificationPerformance\n",
        "\n",
        "K = 10\n",
        "kfp = KFoldClassificationPerformance(x_ary=X, y_ary=Y, classifier=classifier.classifier, k_fold=K)\n",
        "\n",
        "print(\"----- Decision Tree Classification -----\")\n",
        "print(\"{} Folds Mean Accuracy: {}\".format(K, kfp.accuracy()))\n",
        "print(\"{} Folds Mean Recall: {}\".format(K, kfp.recall()))\n",
        "print(\"{} Folds Mean Precision: {}\".format(K, kfp.precision()))\n",
        "print(\"{} Folds Mean F1-Score: {}\".format(K, kfp.f_score()))"
      ],
      "metadata": {
        "colab": {
          "base_uri": "https://localhost:8080/"
        },
        "id": "JTqHPcflWAcu",
        "outputId": "c0bf6042-5996-4a98-c469-4f11b2dff46c"
      },
      "execution_count": 24,
      "outputs": [
        {
          "output_type": "stream",
          "name": "stdout",
          "text": [
            "----- Decision Tree Classification -----\n",
            "10 Folds Mean Accuracy: 0.801289161692879\n",
            "10 Folds Mean Recall: 0.7990757561816447\n",
            "10 Folds Mean Precision: 0.8299658126117009\n",
            "10 Folds Mean F1-Score: 0.7887126081218266\n"
          ]
        }
      ]
    },
    {
      "cell_type": "markdown",
      "source": [
        "# Random Forest"
      ],
      "metadata": {
        "id": "IX6OV6t6-w11"
      }
    },
    {
      "cell_type": "code",
      "source": [
        "# from sklearn.ensemble import RandomForestClassifier\n",
        "# import time\n",
        "\n",
        "# classifier = RandomForestClassifier(n_estimators=10, criterion=\"entropy\", random_state=int(time.time()))\n",
        "# classifier.fit(X_train, Y_train.values.ravel())\n",
        "# Y_pred = classifier.predict(X_test)\n",
        "\n",
        "# With HappyML's Class\n",
        "from HappyML.classification import RandomForest\n",
        "\n",
        "classifier = RandomForest(n_estimators=10, criterion=\"entropy\")\n",
        "Y_pred = classifier.fit(X_train, Y_train).predict(X_test)"
      ],
      "metadata": {
        "id": "sLA_Xz0K-zNA"
      },
      "execution_count": 25,
      "outputs": []
    },
    {
      "cell_type": "code",
      "source": [
        "from HappyML.performance import KFoldClassificationPerformance\n",
        "\n",
        "K = 10\n",
        "kfp = KFoldClassificationPerformance(x_ary=X, y_ary=Y, classifier=classifier.classifier, k_fold=K)\n",
        "\n",
        "print(\"----- Random Forest Classification -----\")\n",
        "print(\"{} Folds Mean Accuracy: {}\".format(K, kfp.accuracy()))\n",
        "print(\"{} Folds Mean Recall: {}\".format(K, kfp.recall()))\n",
        "print(\"{} Folds Mean Precision: {}\".format(K, kfp.precision()))\n",
        "print(\"{} Folds Mean F1-Score: {}\".format(K, kfp.f_score()))"
      ],
      "metadata": {
        "colab": {
          "base_uri": "https://localhost:8080/"
        },
        "id": "pkL1FBbn-9L9",
        "outputId": "2be49abb-031a-4d2c-e58d-f18800a4d6b8"
      },
      "execution_count": 26,
      "outputs": [
        {
          "output_type": "stream",
          "name": "stdout",
          "text": [
            "----- Random Forest Classification -----\n",
            "10 Folds Mean Accuracy: 0.7942433856048001\n",
            "10 Folds Mean Recall: 0.727000823976647\n",
            "10 Folds Mean Precision: 0.7584025389066549\n",
            "10 Folds Mean F1-Score: 0.7208829300239856\n"
          ]
        }
      ]
    }
  ]
}